{
  "cells": [
    {
      "cell_type": "markdown",
      "metadata": {
        "id": "view-in-github",
        "colab_type": "text"
      },
      "source": [
        "<a href=\"https://colab.research.google.com/github/drdr2002/datamanim_100_exercises/blob/main/Occupation.ipynb\" target=\"_parent\"><img src=\"https://colab.research.google.com/assets/colab-badge.svg\" alt=\"Open In Colab\"/></a>"
      ]
    },
    {
      "cell_type": "code",
      "execution_count": null,
      "id": "e1e2bba5-3059-423b-846f-5c2a3d6ec79d",
      "metadata": {
        "id": "e1e2bba5-3059-423b-846f-5c2a3d6ec79d"
      },
      "outputs": [],
      "source": [
        "import pandas as pd\n",
        "import numpy as np"
      ]
    },
    {
      "cell_type": "code",
      "execution_count": null,
      "id": "b7b73f86-691f-4732-afa8-7f96258b7c8f",
      "metadata": {
        "id": "b7b73f86-691f-4732-afa8-7f96258b7c8f"
      },
      "outputs": [],
      "source": [
        "users = pd.read_csv('https://raw.githubusercontent.com/justmarkham/DAT8/master/data/u.user', sep='|', index_col='user_id')"
      ]
    },
    {
      "cell_type": "code",
      "execution_count": null,
      "id": "d49f5995-4a82-4b0d-8582-c8badb1cf9f2",
      "metadata": {
        "id": "d49f5995-4a82-4b0d-8582-c8badb1cf9f2",
        "outputId": "a59ce811-ca58-4d8b-e4e7-3002c9bf0046"
      },
      "outputs": [
        {
          "data": {
            "text/html": [
              "<div>\n",
              "<style scoped>\n",
              "    .dataframe tbody tr th:only-of-type {\n",
              "        vertical-align: middle;\n",
              "    }\n",
              "\n",
              "    .dataframe tbody tr th {\n",
              "        vertical-align: top;\n",
              "    }\n",
              "\n",
              "    .dataframe thead th {\n",
              "        text-align: right;\n",
              "    }\n",
              "</style>\n",
              "<table border=\"1\" class=\"dataframe\">\n",
              "  <thead>\n",
              "    <tr style=\"text-align: right;\">\n",
              "      <th></th>\n",
              "      <th>age</th>\n",
              "      <th>gender</th>\n",
              "      <th>occupation</th>\n",
              "      <th>zip_code</th>\n",
              "    </tr>\n",
              "    <tr>\n",
              "      <th>user_id</th>\n",
              "      <th></th>\n",
              "      <th></th>\n",
              "      <th></th>\n",
              "      <th></th>\n",
              "    </tr>\n",
              "  </thead>\n",
              "  <tbody>\n",
              "    <tr>\n",
              "      <th>1</th>\n",
              "      <td>24</td>\n",
              "      <td>M</td>\n",
              "      <td>technician</td>\n",
              "      <td>85711</td>\n",
              "    </tr>\n",
              "    <tr>\n",
              "      <th>2</th>\n",
              "      <td>53</td>\n",
              "      <td>F</td>\n",
              "      <td>other</td>\n",
              "      <td>94043</td>\n",
              "    </tr>\n",
              "    <tr>\n",
              "      <th>3</th>\n",
              "      <td>23</td>\n",
              "      <td>M</td>\n",
              "      <td>writer</td>\n",
              "      <td>32067</td>\n",
              "    </tr>\n",
              "    <tr>\n",
              "      <th>4</th>\n",
              "      <td>24</td>\n",
              "      <td>M</td>\n",
              "      <td>technician</td>\n",
              "      <td>43537</td>\n",
              "    </tr>\n",
              "    <tr>\n",
              "      <th>5</th>\n",
              "      <td>33</td>\n",
              "      <td>F</td>\n",
              "      <td>other</td>\n",
              "      <td>15213</td>\n",
              "    </tr>\n",
              "  </tbody>\n",
              "</table>\n",
              "</div>"
            ],
            "text/plain": [
              "         age gender  occupation zip_code\n",
              "user_id                                 \n",
              "1         24      M  technician    85711\n",
              "2         53      F       other    94043\n",
              "3         23      M      writer    32067\n",
              "4         24      M  technician    43537\n",
              "5         33      F       other    15213"
            ]
          },
          "execution_count": 3,
          "metadata": {},
          "output_type": "execute_result"
        }
      ],
      "source": [
        "users.head()"
      ]
    },
    {
      "cell_type": "markdown",
      "id": "ee018708-8ae5-463d-8102-02dd32681d8d",
      "metadata": {
        "id": "ee018708-8ae5-463d-8102-02dd32681d8d"
      },
      "source": [
        "### See the last 10 entries"
      ]
    },
    {
      "cell_type": "code",
      "execution_count": null,
      "id": "1d9c39e5-f587-4ff3-b896-d37d07703329",
      "metadata": {
        "id": "1d9c39e5-f587-4ff3-b896-d37d07703329",
        "outputId": "f43dd915-7163-4fe5-e700-5a2db241309b"
      },
      "outputs": [
        {
          "data": {
            "text/html": [
              "<div>\n",
              "<style scoped>\n",
              "    .dataframe tbody tr th:only-of-type {\n",
              "        vertical-align: middle;\n",
              "    }\n",
              "\n",
              "    .dataframe tbody tr th {\n",
              "        vertical-align: top;\n",
              "    }\n",
              "\n",
              "    .dataframe thead th {\n",
              "        text-align: right;\n",
              "    }\n",
              "</style>\n",
              "<table border=\"1\" class=\"dataframe\">\n",
              "  <thead>\n",
              "    <tr style=\"text-align: right;\">\n",
              "      <th></th>\n",
              "      <th>age</th>\n",
              "      <th>gender</th>\n",
              "      <th>occupation</th>\n",
              "      <th>zip_code</th>\n",
              "    </tr>\n",
              "    <tr>\n",
              "      <th>user_id</th>\n",
              "      <th></th>\n",
              "      <th></th>\n",
              "      <th></th>\n",
              "      <th></th>\n",
              "    </tr>\n",
              "  </thead>\n",
              "  <tbody>\n",
              "    <tr>\n",
              "      <th>934</th>\n",
              "      <td>61</td>\n",
              "      <td>M</td>\n",
              "      <td>engineer</td>\n",
              "      <td>22902</td>\n",
              "    </tr>\n",
              "    <tr>\n",
              "      <th>935</th>\n",
              "      <td>42</td>\n",
              "      <td>M</td>\n",
              "      <td>doctor</td>\n",
              "      <td>66221</td>\n",
              "    </tr>\n",
              "    <tr>\n",
              "      <th>936</th>\n",
              "      <td>24</td>\n",
              "      <td>M</td>\n",
              "      <td>other</td>\n",
              "      <td>32789</td>\n",
              "    </tr>\n",
              "    <tr>\n",
              "      <th>937</th>\n",
              "      <td>48</td>\n",
              "      <td>M</td>\n",
              "      <td>educator</td>\n",
              "      <td>98072</td>\n",
              "    </tr>\n",
              "    <tr>\n",
              "      <th>938</th>\n",
              "      <td>38</td>\n",
              "      <td>F</td>\n",
              "      <td>technician</td>\n",
              "      <td>55038</td>\n",
              "    </tr>\n",
              "    <tr>\n",
              "      <th>939</th>\n",
              "      <td>26</td>\n",
              "      <td>F</td>\n",
              "      <td>student</td>\n",
              "      <td>33319</td>\n",
              "    </tr>\n",
              "    <tr>\n",
              "      <th>940</th>\n",
              "      <td>32</td>\n",
              "      <td>M</td>\n",
              "      <td>administrator</td>\n",
              "      <td>02215</td>\n",
              "    </tr>\n",
              "    <tr>\n",
              "      <th>941</th>\n",
              "      <td>20</td>\n",
              "      <td>M</td>\n",
              "      <td>student</td>\n",
              "      <td>97229</td>\n",
              "    </tr>\n",
              "    <tr>\n",
              "      <th>942</th>\n",
              "      <td>48</td>\n",
              "      <td>F</td>\n",
              "      <td>librarian</td>\n",
              "      <td>78209</td>\n",
              "    </tr>\n",
              "    <tr>\n",
              "      <th>943</th>\n",
              "      <td>22</td>\n",
              "      <td>M</td>\n",
              "      <td>student</td>\n",
              "      <td>77841</td>\n",
              "    </tr>\n",
              "  </tbody>\n",
              "</table>\n",
              "</div>"
            ],
            "text/plain": [
              "         age gender     occupation zip_code\n",
              "user_id                                    \n",
              "934       61      M       engineer    22902\n",
              "935       42      M         doctor    66221\n",
              "936       24      M          other    32789\n",
              "937       48      M       educator    98072\n",
              "938       38      F     technician    55038\n",
              "939       26      F        student    33319\n",
              "940       32      M  administrator    02215\n",
              "941       20      M        student    97229\n",
              "942       48      F      librarian    78209\n",
              "943       22      M        student    77841"
            ]
          },
          "execution_count": 4,
          "metadata": {},
          "output_type": "execute_result"
        }
      ],
      "source": [
        "users.tail(10)"
      ]
    },
    {
      "cell_type": "markdown",
      "id": "03213c31-c267-4886-87db-f2db8472bdc8",
      "metadata": {
        "id": "03213c31-c267-4886-87db-f2db8472bdc8"
      },
      "source": [
        "### What is the number of observations in the dataset?"
      ]
    },
    {
      "cell_type": "code",
      "execution_count": null,
      "id": "cdb06294-016e-4fdb-ac77-1265eedeedf6",
      "metadata": {
        "id": "cdb06294-016e-4fdb-ac77-1265eedeedf6",
        "outputId": "157677e8-3589-48aa-df36-e2fbab40774d"
      },
      "outputs": [
        {
          "data": {
            "text/plain": [
              "(943, 4)"
            ]
          },
          "execution_count": 5,
          "metadata": {},
          "output_type": "execute_result"
        }
      ],
      "source": [
        "users.shape"
      ]
    },
    {
      "cell_type": "code",
      "execution_count": null,
      "id": "3480cc8e-63a8-4ea6-9e34-03d3895a047d",
      "metadata": {
        "id": "3480cc8e-63a8-4ea6-9e34-03d3895a047d",
        "outputId": "c8f7095a-e098-47e5-d779-9bd3f2b498b7"
      },
      "outputs": [
        {
          "name": "stdout",
          "output_type": "stream",
          "text": [
            "<class 'pandas.core.frame.DataFrame'>\n",
            "Index: 943 entries, 1 to 943\n",
            "Data columns (total 4 columns):\n",
            " #   Column      Non-Null Count  Dtype \n",
            "---  ------      --------------  ----- \n",
            " 0   age         943 non-null    int64 \n",
            " 1   gender      943 non-null    object\n",
            " 2   occupation  943 non-null    object\n",
            " 3   zip_code    943 non-null    object\n",
            "dtypes: int64(1), object(3)\n",
            "memory usage: 36.8+ KB\n"
          ]
        }
      ],
      "source": [
        "users.info()"
      ]
    },
    {
      "cell_type": "code",
      "execution_count": null,
      "id": "a4eba1dd-30fc-4e7b-96ba-73b6691319a1",
      "metadata": {
        "id": "a4eba1dd-30fc-4e7b-96ba-73b6691319a1",
        "outputId": "0b13e4c3-4a74-402f-ea56-d8a9f2b32aa8"
      },
      "outputs": [
        {
          "data": {
            "text/plain": [
              "Index(['age', 'gender', 'occupation', 'zip_code'], dtype='object')"
            ]
          },
          "execution_count": 7,
          "metadata": {},
          "output_type": "execute_result"
        }
      ],
      "source": [
        "users.columns"
      ]
    },
    {
      "cell_type": "markdown",
      "id": "8da216bf-b5f9-4eb6-bac1-e6cc438fd17d",
      "metadata": {
        "id": "8da216bf-b5f9-4eb6-bac1-e6cc438fd17d"
      },
      "source": [
        "### How is the dataset indexed?"
      ]
    },
    {
      "cell_type": "code",
      "execution_count": null,
      "id": "9ad4eaac-68e4-449b-a150-cc236818d6a9",
      "metadata": {
        "id": "9ad4eaac-68e4-449b-a150-cc236818d6a9",
        "outputId": "a3df9259-dd73-4fd4-b3da-fbd6d1864745"
      },
      "outputs": [
        {
          "data": {
            "text/plain": [
              "Index([  1,   2,   3,   4,   5,   6,   7,   8,   9,  10,\n",
              "       ...\n",
              "       934, 935, 936, 937, 938, 939, 940, 941, 942, 943],\n",
              "      dtype='int64', name='user_id', length=943)"
            ]
          },
          "execution_count": 9,
          "metadata": {},
          "output_type": "execute_result"
        }
      ],
      "source": [
        "users.index"
      ]
    },
    {
      "cell_type": "markdown",
      "id": "c2f8e9b6-6c9a-4917-86d6-390238cc499e",
      "metadata": {
        "id": "c2f8e9b6-6c9a-4917-86d6-390238cc499e"
      },
      "source": [
        "### What is the data type of each column?"
      ]
    },
    {
      "cell_type": "code",
      "execution_count": null,
      "id": "bc65bd6d-b107-4834-83fd-40b1449973f1",
      "metadata": {
        "id": "bc65bd6d-b107-4834-83fd-40b1449973f1",
        "outputId": "0ab70bc5-91f3-4584-81d5-aaaafcba6a8e"
      },
      "outputs": [
        {
          "data": {
            "text/plain": [
              "age            int64\n",
              "gender        object\n",
              "occupation    object\n",
              "zip_code      object\n",
              "dtype: object"
            ]
          },
          "execution_count": 10,
          "metadata": {},
          "output_type": "execute_result"
        }
      ],
      "source": [
        "users.dtypes"
      ]
    },
    {
      "cell_type": "markdown",
      "id": "e5f29588-36a6-4d1f-b255-ffdd4b64aa46",
      "metadata": {
        "id": "e5f29588-36a6-4d1f-b255-ffdd4b64aa46"
      },
      "source": [
        "### Print only the occupation column"
      ]
    },
    {
      "cell_type": "code",
      "execution_count": null,
      "id": "2ed1e2a6-244f-42b0-90cf-a633b616c5e9",
      "metadata": {
        "id": "2ed1e2a6-244f-42b0-90cf-a633b616c5e9",
        "outputId": "58ed6580-53a2-4c5e-af6a-2b23900da2a3"
      },
      "outputs": [
        {
          "data": {
            "text/plain": [
              "user_id\n",
              "1         technician\n",
              "2              other\n",
              "3             writer\n",
              "4         technician\n",
              "5              other\n",
              "           ...      \n",
              "939          student\n",
              "940    administrator\n",
              "941          student\n",
              "942        librarian\n",
              "943          student\n",
              "Name: occupation, Length: 943, dtype: object"
            ]
          },
          "execution_count": 11,
          "metadata": {},
          "output_type": "execute_result"
        }
      ],
      "source": [
        "users['occupation']"
      ]
    },
    {
      "cell_type": "markdown",
      "id": "c73300ce-f9d4-4ed4-a82d-26769c17af09",
      "metadata": {
        "id": "c73300ce-f9d4-4ed4-a82d-26769c17af09"
      },
      "source": [
        "### What is the most frequent occupation?"
      ]
    },
    {
      "cell_type": "code",
      "execution_count": null,
      "id": "65cd9328-5234-491c-96fd-f5aa1599fe9d",
      "metadata": {
        "id": "65cd9328-5234-491c-96fd-f5aa1599fe9d",
        "outputId": "f53a3601-d734-4d06-98e0-0edf231a9468"
      },
      "outputs": [
        {
          "data": {
            "text/plain": [
              "occupation\n",
              "student          196\n",
              "other            105\n",
              "educator          95\n",
              "administrator     79\n",
              "engineer          67\n",
              "programmer        66\n",
              "librarian         51\n",
              "writer            45\n",
              "executive         32\n",
              "scientist         31\n",
              "artist            28\n",
              "technician        27\n",
              "marketing         26\n",
              "entertainment     18\n",
              "healthcare        16\n",
              "retired           14\n",
              "lawyer            12\n",
              "salesman          12\n",
              "none               9\n",
              "homemaker          7\n",
              "doctor             7\n",
              "Name: count, dtype: int64"
            ]
          },
          "execution_count": 12,
          "metadata": {},
          "output_type": "execute_result"
        }
      ],
      "source": [
        "users['occupation'].value_counts()"
      ]
    },
    {
      "cell_type": "code",
      "execution_count": null,
      "id": "f1fe1424-acfb-4499-a490-5cfe7a4a2e01",
      "metadata": {
        "id": "f1fe1424-acfb-4499-a490-5cfe7a4a2e01",
        "outputId": "2aee2e32-93e9-4ccf-b3b2-7a12f40e3f49"
      },
      "outputs": [
        {
          "data": {
            "text/plain": [
              "'student'"
            ]
          },
          "execution_count": 13,
          "metadata": {},
          "output_type": "execute_result"
        }
      ],
      "source": [
        "users['occupation'].value_counts().index[0]"
      ]
    },
    {
      "cell_type": "markdown",
      "id": "0197a5d5-4f75-4aca-ba50-cd424ee90639",
      "metadata": {
        "id": "0197a5d5-4f75-4aca-ba50-cd424ee90639"
      },
      "source": [
        "### Summarize the DataFrame"
      ]
    },
    {
      "cell_type": "code",
      "execution_count": null,
      "id": "c33852ee-c256-4ec5-9441-7f539f003a5d",
      "metadata": {
        "id": "c33852ee-c256-4ec5-9441-7f539f003a5d",
        "outputId": "97de2739-e2f9-49ba-dac9-aa0ae00cae36"
      },
      "outputs": [
        {
          "data": {
            "text/html": [
              "<div>\n",
              "<style scoped>\n",
              "    .dataframe tbody tr th:only-of-type {\n",
              "        vertical-align: middle;\n",
              "    }\n",
              "\n",
              "    .dataframe tbody tr th {\n",
              "        vertical-align: top;\n",
              "    }\n",
              "\n",
              "    .dataframe thead th {\n",
              "        text-align: right;\n",
              "    }\n",
              "</style>\n",
              "<table border=\"1\" class=\"dataframe\">\n",
              "  <thead>\n",
              "    <tr style=\"text-align: right;\">\n",
              "      <th></th>\n",
              "      <th>age</th>\n",
              "    </tr>\n",
              "  </thead>\n",
              "  <tbody>\n",
              "    <tr>\n",
              "      <th>count</th>\n",
              "      <td>943.000000</td>\n",
              "    </tr>\n",
              "    <tr>\n",
              "      <th>mean</th>\n",
              "      <td>34.051962</td>\n",
              "    </tr>\n",
              "    <tr>\n",
              "      <th>std</th>\n",
              "      <td>12.192740</td>\n",
              "    </tr>\n",
              "    <tr>\n",
              "      <th>min</th>\n",
              "      <td>7.000000</td>\n",
              "    </tr>\n",
              "    <tr>\n",
              "      <th>25%</th>\n",
              "      <td>25.000000</td>\n",
              "    </tr>\n",
              "    <tr>\n",
              "      <th>50%</th>\n",
              "      <td>31.000000</td>\n",
              "    </tr>\n",
              "    <tr>\n",
              "      <th>75%</th>\n",
              "      <td>43.000000</td>\n",
              "    </tr>\n",
              "    <tr>\n",
              "      <th>max</th>\n",
              "      <td>73.000000</td>\n",
              "    </tr>\n",
              "  </tbody>\n",
              "</table>\n",
              "</div>"
            ],
            "text/plain": [
              "              age\n",
              "count  943.000000\n",
              "mean    34.051962\n",
              "std     12.192740\n",
              "min      7.000000\n",
              "25%     25.000000\n",
              "50%     31.000000\n",
              "75%     43.000000\n",
              "max     73.000000"
            ]
          },
          "execution_count": 17,
          "metadata": {},
          "output_type": "execute_result"
        }
      ],
      "source": [
        "users.describe() # 기본적으로 숫자형 열에 대한 통계 정보를 요약해서 보여주는 함수"
      ]
    },
    {
      "cell_type": "markdown",
      "id": "6b1da1be-f90d-4257-84f8-e9fcee5b2042",
      "metadata": {
        "id": "6b1da1be-f90d-4257-84f8-e9fcee5b2042"
      },
      "source": [
        "### Summarize **'all the columns'**"
      ]
    },
    {
      "cell_type": "code",
      "execution_count": null,
      "id": "cc4b3cc7-1785-42eb-95cd-a23477462863",
      "metadata": {
        "id": "cc4b3cc7-1785-42eb-95cd-a23477462863",
        "outputId": "a39da550-d7bf-4a2d-eaff-fe565a2e45e4"
      },
      "outputs": [
        {
          "data": {
            "text/html": [
              "<div>\n",
              "<style scoped>\n",
              "    .dataframe tbody tr th:only-of-type {\n",
              "        vertical-align: middle;\n",
              "    }\n",
              "\n",
              "    .dataframe tbody tr th {\n",
              "        vertical-align: top;\n",
              "    }\n",
              "\n",
              "    .dataframe thead th {\n",
              "        text-align: right;\n",
              "    }\n",
              "</style>\n",
              "<table border=\"1\" class=\"dataframe\">\n",
              "  <thead>\n",
              "    <tr style=\"text-align: right;\">\n",
              "      <th></th>\n",
              "      <th>age</th>\n",
              "      <th>gender</th>\n",
              "      <th>occupation</th>\n",
              "      <th>zip_code</th>\n",
              "    </tr>\n",
              "  </thead>\n",
              "  <tbody>\n",
              "    <tr>\n",
              "      <th>count</th>\n",
              "      <td>943.000000</td>\n",
              "      <td>943</td>\n",
              "      <td>943</td>\n",
              "      <td>943</td>\n",
              "    </tr>\n",
              "    <tr>\n",
              "      <th>unique</th>\n",
              "      <td>NaN</td>\n",
              "      <td>2</td>\n",
              "      <td>21</td>\n",
              "      <td>795</td>\n",
              "    </tr>\n",
              "    <tr>\n",
              "      <th>top</th>\n",
              "      <td>NaN</td>\n",
              "      <td>M</td>\n",
              "      <td>student</td>\n",
              "      <td>55414</td>\n",
              "    </tr>\n",
              "    <tr>\n",
              "      <th>freq</th>\n",
              "      <td>NaN</td>\n",
              "      <td>670</td>\n",
              "      <td>196</td>\n",
              "      <td>9</td>\n",
              "    </tr>\n",
              "    <tr>\n",
              "      <th>mean</th>\n",
              "      <td>34.051962</td>\n",
              "      <td>NaN</td>\n",
              "      <td>NaN</td>\n",
              "      <td>NaN</td>\n",
              "    </tr>\n",
              "    <tr>\n",
              "      <th>std</th>\n",
              "      <td>12.192740</td>\n",
              "      <td>NaN</td>\n",
              "      <td>NaN</td>\n",
              "      <td>NaN</td>\n",
              "    </tr>\n",
              "    <tr>\n",
              "      <th>min</th>\n",
              "      <td>7.000000</td>\n",
              "      <td>NaN</td>\n",
              "      <td>NaN</td>\n",
              "      <td>NaN</td>\n",
              "    </tr>\n",
              "    <tr>\n",
              "      <th>25%</th>\n",
              "      <td>25.000000</td>\n",
              "      <td>NaN</td>\n",
              "      <td>NaN</td>\n",
              "      <td>NaN</td>\n",
              "    </tr>\n",
              "    <tr>\n",
              "      <th>50%</th>\n",
              "      <td>31.000000</td>\n",
              "      <td>NaN</td>\n",
              "      <td>NaN</td>\n",
              "      <td>NaN</td>\n",
              "    </tr>\n",
              "    <tr>\n",
              "      <th>75%</th>\n",
              "      <td>43.000000</td>\n",
              "      <td>NaN</td>\n",
              "      <td>NaN</td>\n",
              "      <td>NaN</td>\n",
              "    </tr>\n",
              "    <tr>\n",
              "      <th>max</th>\n",
              "      <td>73.000000</td>\n",
              "      <td>NaN</td>\n",
              "      <td>NaN</td>\n",
              "      <td>NaN</td>\n",
              "    </tr>\n",
              "  </tbody>\n",
              "</table>\n",
              "</div>"
            ],
            "text/plain": [
              "               age gender occupation zip_code\n",
              "count   943.000000    943        943      943\n",
              "unique         NaN      2         21      795\n",
              "top            NaN      M    student    55414\n",
              "freq           NaN    670        196        9\n",
              "mean     34.051962    NaN        NaN      NaN\n",
              "std      12.192740    NaN        NaN      NaN\n",
              "min       7.000000    NaN        NaN      NaN\n",
              "25%      25.000000    NaN        NaN      NaN\n",
              "50%      31.000000    NaN        NaN      NaN\n",
              "75%      43.000000    NaN        NaN      NaN\n",
              "max      73.000000    NaN        NaN      NaN"
            ]
          },
          "execution_count": 16,
          "metadata": {},
          "output_type": "execute_result"
        }
      ],
      "source": [
        "users.describe(include='all')"
      ]
    },
    {
      "cell_type": "markdown",
      "id": "0fb66911-340c-4ded-aadf-ffb55c3f28dd",
      "metadata": {
        "id": "0fb66911-340c-4ded-aadf-ffb55c3f28dd"
      },
      "source": [
        "### Summarize only the occupation column"
      ]
    },
    {
      "cell_type": "code",
      "execution_count": null,
      "id": "75cec9cf-33c7-43a4-a9f4-ebc260212c93",
      "metadata": {
        "id": "75cec9cf-33c7-43a4-a9f4-ebc260212c93",
        "outputId": "e8606f8a-0ddf-485b-f5d5-243b6e8fd844"
      },
      "outputs": [
        {
          "data": {
            "text/plain": [
              "count         943\n",
              "unique         21\n",
              "top       student\n",
              "freq          196\n",
              "Name: occupation, dtype: object"
            ]
          },
          "execution_count": 19,
          "metadata": {},
          "output_type": "execute_result"
        }
      ],
      "source": [
        "users['occupation'].describe()"
      ]
    },
    {
      "cell_type": "markdown",
      "id": "14f41cad-42f6-4cd8-a465-90897e8726f6",
      "metadata": {
        "id": "14f41cad-42f6-4cd8-a465-90897e8726f6"
      },
      "source": [
        "### What is the mean age of users?"
      ]
    },
    {
      "cell_type": "code",
      "execution_count": null,
      "id": "dbd8f388-f182-4f0d-9c9c-a6aab8951298",
      "metadata": {
        "id": "dbd8f388-f182-4f0d-9c9c-a6aab8951298",
        "outputId": "0237ab3e-ab78-4616-e2e3-d5d54b22ce3b"
      },
      "outputs": [
        {
          "data": {
            "text/plain": [
              "34.05"
            ]
          },
          "execution_count": 24,
          "metadata": {},
          "output_type": "execute_result"
        }
      ],
      "source": [
        "round(users['age'].mean(), 2)"
      ]
    },
    {
      "cell_type": "markdown",
      "id": "59f7db77-fd6b-47f7-834c-8da03ed03ef5",
      "metadata": {
        "id": "59f7db77-fd6b-47f7-834c-8da03ed03ef5"
      },
      "source": [
        "### What is the age with least occurrence?"
      ]
    },
    {
      "cell_type": "code",
      "execution_count": null,
      "id": "c16d9803-7d78-41ff-a6b1-b7372b8ddb49",
      "metadata": {
        "id": "c16d9803-7d78-41ff-a6b1-b7372b8ddb49",
        "outputId": "21ecca8f-89b0-4fa3-a029-a56c571ddde2"
      },
      "outputs": [
        {
          "data": {
            "text/plain": [
              "age\n",
              "7     1\n",
              "66    1\n",
              "11    1\n",
              "10    1\n",
              "73    1\n",
              "Name: count, dtype: int64"
            ]
          },
          "execution_count": 29,
          "metadata": {},
          "output_type": "execute_result"
        }
      ],
      "source": [
        "users['age'].value_counts().tail()"
      ]
    },
    {
      "cell_type": "code",
      "execution_count": null,
      "id": "903f8a88-5a96-4bde-9083-74531fd8e13b",
      "metadata": {
        "id": "903f8a88-5a96-4bde-9083-74531fd8e13b"
      },
      "outputs": [],
      "source": []
    },
    {
      "cell_type": "code",
      "execution_count": null,
      "id": "b2e35e4f-a071-4bfa-9e47-0163ef0199b3",
      "metadata": {
        "id": "b2e35e4f-a071-4bfa-9e47-0163ef0199b3"
      },
      "outputs": [],
      "source": []
    }
  ],
  "metadata": {
    "kernelspec": {
      "display_name": "Python 3 (ipykernel)",
      "language": "python",
      "name": "python3"
    },
    "language_info": {
      "codemirror_mode": {
        "name": "ipython",
        "version": 3
      },
      "file_extension": ".py",
      "mimetype": "text/x-python",
      "name": "python",
      "nbconvert_exporter": "python",
      "pygments_lexer": "ipython3",
      "version": "3.11.7"
    },
    "colab": {
      "provenance": [],
      "include_colab_link": true
    }
  },
  "nbformat": 4,
  "nbformat_minor": 5
}